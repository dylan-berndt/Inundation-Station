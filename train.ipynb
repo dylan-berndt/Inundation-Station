{
 "cells": [
  {
   "cell_type": "code",
   "execution_count": 1,
   "metadata": {
    "collapsed": true
   },
   "outputs": [],
   "source": [
    "import torch\n",
    "\n",
    "from model import *\n",
    "from data import *\n",
    "from vis import *\n",
    "import gc\n",
    "\n",
    "import itertools"
   ]
  },
  {
   "cell_type": "code",
   "execution_count": 2,
   "metadata": {
    "collapsed": false
   },
   "outputs": [],
   "source": [
    "config = Config().load(\"config.json\")"
   ]
  },
  {
   "cell_type": "code",
   "execution_count": 3,
   "metadata": {
    "collapsed": false
   },
   "outputs": [],
   "source": [
    "def trainModel(config, modelClass, dataClass, objective, epochs, criterion: dict[str: nn.Module]):\n",
    "    model = None\n",
    "    try:\n",
    "        dataset = dataClass(config)\n",
    "\n",
    "        dataset.info(dataset[0])\n",
    "\n",
    "        trainSize = len(dataset)\n",
    "        # TODO: More stratified subsets using dataset.lengths and geographic information\n",
    "        train = torch.utils.data.Subset(dataset, range(int(trainSize * config.dataSplit)))\n",
    "        test = torch.utils.data.Subset(dataset, range(int(trainSize * config.dataSplit), trainSize))\n",
    "\n",
    "        trainSampler = GraphSizeSampler(train, nodesPerBatch=config.nodesPerBatch, force=True)\n",
    "        testSampler = GraphSizeSampler(test, nodesPerBatch=config.nodesPerBatch, force=True)\n",
    "\n",
    "        train = DataLoader(train, batch_sampler=trainSampler, generator=torch.Generator(device))\n",
    "        test = DataLoader(test, batch_sampler=testSampler, generator=torch.Generator(device))\n",
    "\n",
    "        dataset.info(next(iter(train)))\n",
    "\n",
    "        model = modelClass(config)\n",
    "        print(f\"Model has {sum([p.numel() for p in model.parameters()])} parameters\")\n",
    "        print(f\"Dataset has {len(dataset)} samples\")\n",
    "        print(next(model.parameters()).is_cuda)\n",
    "\n",
    "        precision, recall, mae = CMALPrecision(), CMALRecall(), CMALNormalizedMeanAbsolute()\n",
    "\n",
    "        optimizer = torch.optim.Adam(model.parameters(), lr=3e-4)\n",
    "\n",
    "        testIter = itertools.cycle(test)\n",
    "\n",
    "        client = Client(\"127.0.0.1\")\n",
    "\n",
    "        totalMemory = []\n",
    "\n",
    "        for epoch in range(epochs):\n",
    "            progress = 0\n",
    "            for inputs, targets in train:\n",
    "                memoryTrack = [torch.cuda.memory_allocated()]\n",
    "\n",
    "                model.train()\n",
    "                optimizer.zero_grad()\n",
    "\n",
    "                memoryTrack.append(torch.cuda.memory_allocated())\n",
    "\n",
    "                history, future = targets.dischargeHistory, targets.dischargeFuture\n",
    "                memoryTrack.append(torch.cuda.memory_allocated())\n",
    "                thresholds, deviations = targets.thresholds, targets.deviation.unsqueeze(1)\n",
    "                memoryTrack.append(torch.cuda.memory_allocated())\n",
    "                hindcast, forecast = model(inputs)\n",
    "                memoryTrack.append(torch.cuda.memory_allocated())\n",
    "                loss = objective(forecast, future)\n",
    "                memoryTrack.append(torch.cuda.memory_allocated())\n",
    "                trainLoss = loss.detach().item()\n",
    "                memoryTrack.append(torch.cuda.memory_allocated())\n",
    "\n",
    "                # trainPrecision, trainRecall = precision(forecast, future, thresholds), recall(forecast, future, thresholds)\n",
    "                trainMAE = mae(forecast, future, deviations).detach().item()\n",
    "                memoryTrack.append(torch.cuda.memory_allocated())\n",
    "\n",
    "                loss.backward()\n",
    "                memoryTrack.append(torch.cuda.memory_allocated())\n",
    "                optimizer.step()\n",
    "                memoryTrack.append(torch.cuda.memory_allocated())\n",
    "\n",
    "                # For the love of god\n",
    "                del loss, history, future, thresholds, deviations, hindcast, forecast, inputs, targets\n",
    "                memoryTrack.append(torch.cuda.memory_allocated())\n",
    "\n",
    "                print(\"Memory added: \", memoryTrack[-1] - memoryTrack[0])\n",
    "                print(memoryTrack)\n",
    "                totalMemory.append(memoryTrack)\n",
    "                np.save(\"memory.npy\", np.array(totalMemory))\n",
    "\n",
    "                # torch.cuda.empty_cache()\n",
    "\n",
    "                with torch.no_grad():\n",
    "                    model.eval()\n",
    "                    inputs, targets = next(testIter)\n",
    "\n",
    "                    history, future = targets.dischargeHistory, targets.dischargeFuture\n",
    "                    thresholds, deviations = targets.thresholds, targets.deviation.unsqueeze(1)\n",
    "                    hindcast, forecast = model(inputs)\n",
    "                    loss = objective(forecast, future)\n",
    "                    testLoss = loss.detach().item()\n",
    "\n",
    "                    # testPrecision, testRecall = precision(forecast, future, thresholds), recall(forecast, future, thresholds)\n",
    "                    testMAE = mae(forecast, future, deviations).detach().item()\n",
    "\n",
    "                    del loss, history, future, thresholds, deviations, hindcast, forecast, inputs, targets\n",
    "\n",
    "                torch.cuda.empty_cache()\n",
    "\n",
    "                client.send(\"Train Loss\", trainLoss)\n",
    "                client.send(\"Test Loss\", testLoss)\n",
    "                client.send(\"Train NMAE\", trainMAE)\n",
    "                client.send(\"Test NMAE\", testMAE)\n",
    "\n",
    "                progress += 1\n",
    "                # print(f\"\\r{progress}/{len(train)} | {(progress / len(train)) * 100:.3f}% |  Train Loss: {trainLoss} | Train Precision: {precision} | Train Recall: {recall}\")\n",
    "                print(f\"\\r{progress}/{len(train)} | {(progress / len(train)) * 100:.3f}% |  Train Loss: {trainLoss} | Test Loss: {testLoss}\", end=\"\")\n",
    "\n",
    "            print()\n",
    "\n",
    "        return model\n",
    "\n",
    "    except KeyboardInterrupt:\n",
    "        if model is not None:\n",
    "            torch.save(model.state_dict(), \"checkpoint.pt\")\n",
    "        return model"
   ]
  },
  {
   "cell_type": "code",
   "execution_count": 4,
   "metadata": {
    "collapsed": false
   },
   "outputs": [
    {
     "name": "stdout",
     "output_type": "stream",
     "text": [
      "Loading GeoPandas...\n",
      "GeoPandas Loaded\n",
      "2544/2544 GRDC files loaded\n",
      "9640/9640 ERA5 files loaded\n",
      "Total empty basins: 37\n",
      "57622/57646 Basin Structures Appended to Graph\n",
      "Upstream Basins Compiled | 1.0 | 17.43485477178423\n",
      "Upstream Structures Compiled\n",
      "Structure Tensors Complete\n",
      "Index Mapping Complete\n",
      "Static Input Scaling Complete\n",
      "\n",
      "        Total Samples: 29254761\n",
      "        Era5 History: torch.Size([1, 120, 7]) torch.float32\n",
      "        Era5 Future: torch.Size([1, 7, 7]) torch.float32\n",
      "        Basin Continuous: torch.Size([1, 277]) torch.float32\n",
      "        Basin Discrete: torch.Size([1, 10]) torch.int64\n",
      "        Structure: torch.Size([2, 1]) torch.int64\n",
      "        River Continuous: torch.Size([258]) torch.float32\n",
      "        River Discrete: torch.Size([14]) torch.int64\n",
      "        Discharge History: torch.Size([120]) torch.float32\n",
      "        Discharge Future: torch.Size([7]) torch.float32\n",
      "        Thresholds: torch.Size([4]) torch.float32\n",
      "        Deviation: torch.Size([]) torch.float32\n",
      "        \n"
     ]
    },
    {
     "ename": "AttributeError",
     "evalue": "module 'numpy' has no attribute 'mode'",
     "output_type": "error",
     "traceback": [
      "\u001B[1;31m---------------------------------------------------------------------------\u001B[0m",
      "\u001B[1;31mAttributeError\u001B[0m                            Traceback (most recent call last)",
      "Cell \u001B[1;32mIn[4], line 5\u001B[0m\n\u001B[0;32m      1\u001B[0m metrics \u001B[38;5;241m=\u001B[39m {\n\u001B[0;32m      2\u001B[0m     \u001B[38;5;124m\"\u001B[39m\u001B[38;5;124mPrecision\u001B[39m\u001B[38;5;124m\"\u001B[39m: CMALLoss()\n\u001B[0;32m      3\u001B[0m }\n\u001B[1;32m----> 5\u001B[0m model \u001B[38;5;241m=\u001B[39m \u001B[43mtrainModel\u001B[49m\u001B[43m(\u001B[49m\u001B[43mconfig\u001B[49m\u001B[43m,\u001B[49m\u001B[43m \u001B[49m\u001B[43mInundationStation\u001B[49m\u001B[43m,\u001B[49m\u001B[43m \u001B[49m\u001B[43mInundationData\u001B[49m\u001B[43m,\u001B[49m\u001B[43m \u001B[49m\u001B[43mCMALLoss\u001B[49m\u001B[43m(\u001B[49m\u001B[43m)\u001B[49m\u001B[43m,\u001B[49m\u001B[43m \u001B[49m\u001B[43mepochs\u001B[49m\u001B[38;5;241;43m=\u001B[39;49m\u001B[38;5;241;43m10\u001B[39;49m\u001B[43m,\u001B[49m\u001B[43m \u001B[49m\u001B[43mcriterion\u001B[49m\u001B[38;5;241;43m=\u001B[39;49m\u001B[43mmetrics\u001B[49m\u001B[43m)\u001B[49m\n",
      "Cell \u001B[1;32mIn[3], line 13\u001B[0m, in \u001B[0;36mtrainModel\u001B[1;34m(config, modelClass, dataClass, objective, epochs, criterion)\u001B[0m\n\u001B[0;32m     10\u001B[0m train \u001B[38;5;241m=\u001B[39m torch\u001B[38;5;241m.\u001B[39mutils\u001B[38;5;241m.\u001B[39mdata\u001B[38;5;241m.\u001B[39mSubset(dataset, \u001B[38;5;28mrange\u001B[39m(\u001B[38;5;28mint\u001B[39m(trainSize \u001B[38;5;241m*\u001B[39m config\u001B[38;5;241m.\u001B[39mdataSplit)))\n\u001B[0;32m     11\u001B[0m test \u001B[38;5;241m=\u001B[39m torch\u001B[38;5;241m.\u001B[39mutils\u001B[38;5;241m.\u001B[39mdata\u001B[38;5;241m.\u001B[39mSubset(dataset, \u001B[38;5;28mrange\u001B[39m(\u001B[38;5;28mint\u001B[39m(trainSize \u001B[38;5;241m*\u001B[39m config\u001B[38;5;241m.\u001B[39mdataSplit), trainSize))\n\u001B[1;32m---> 13\u001B[0m trainSampler \u001B[38;5;241m=\u001B[39m \u001B[43mGraphSizeSampler\u001B[49m\u001B[43m(\u001B[49m\u001B[43mtrain\u001B[49m\u001B[43m,\u001B[49m\u001B[43m \u001B[49m\u001B[43mnodesPerBatch\u001B[49m\u001B[38;5;241;43m=\u001B[39;49m\u001B[43mconfig\u001B[49m\u001B[38;5;241;43m.\u001B[39;49m\u001B[43mnodesPerBatch\u001B[49m\u001B[43m,\u001B[49m\u001B[43m \u001B[49m\u001B[43mforce\u001B[49m\u001B[38;5;241;43m=\u001B[39;49m\u001B[38;5;28;43;01mTrue\u001B[39;49;00m\u001B[43m)\u001B[49m\n\u001B[0;32m     14\u001B[0m testSampler \u001B[38;5;241m=\u001B[39m GraphSizeSampler(test, nodesPerBatch\u001B[38;5;241m=\u001B[39mconfig\u001B[38;5;241m.\u001B[39mnodesPerBatch, force\u001B[38;5;241m=\u001B[39m\u001B[38;5;28;01mTrue\u001B[39;00m)\n\u001B[0;32m     16\u001B[0m train \u001B[38;5;241m=\u001B[39m DataLoader(train, batch_sampler\u001B[38;5;241m=\u001B[39mtrainSampler, generator\u001B[38;5;241m=\u001B[39mtorch\u001B[38;5;241m.\u001B[39mGenerator(device))\n",
      "File \u001B[1;32mD:\\PycharmProjects\\Basin Differentiation\\data.py:464\u001B[0m, in \u001B[0;36mGraphSizeSampler.__init__\u001B[1;34m(self, dataset, nodesPerBatch, dropLast, force)\u001B[0m\n\u001B[0;32m    462\u001B[0m \u001B[38;5;28mself\u001B[39m\u001B[38;5;241m.\u001B[39mbatches \u001B[38;5;241m=\u001B[39m [\u001B[38;5;28mself\u001B[39m\u001B[38;5;241m.\u001B[39mbatches[i] \u001B[38;5;28;01mfor\u001B[39;00m i \u001B[38;5;129;01min\u001B[39;00m \u001B[38;5;28mrange\u001B[39m(\u001B[38;5;28mlen\u001B[39m(\u001B[38;5;28mself\u001B[39m\u001B[38;5;241m.\u001B[39mbatches)) \u001B[38;5;28;01mif\u001B[39;00m batchSizes[i] \u001B[38;5;241m==\u001B[39m nodesPerBatch]\n\u001B[0;32m    463\u001B[0m batchSizes \u001B[38;5;241m=\u001B[39m [size \u001B[38;5;28;01mfor\u001B[39;00m size \u001B[38;5;129;01min\u001B[39;00m batchSizes \u001B[38;5;28;01mif\u001B[39;00m size \u001B[38;5;241m==\u001B[39m nodesPerBatch]\n\u001B[1;32m--> 464\u001B[0m batchSize \u001B[38;5;241m=\u001B[39m \u001B[43mnp\u001B[49m\u001B[38;5;241;43m.\u001B[39;49m\u001B[43mmode\u001B[49m([\u001B[38;5;28mlen\u001B[39m(batch) \u001B[38;5;28;01mfor\u001B[39;00m batch \u001B[38;5;129;01min\u001B[39;00m \u001B[38;5;28mself\u001B[39m\u001B[38;5;241m.\u001B[39mbatches])\n\u001B[0;32m    465\u001B[0m batchSizes \u001B[38;5;241m=\u001B[39m [batchSizes[i] \u001B[38;5;28;01mfor\u001B[39;00m i \u001B[38;5;129;01min\u001B[39;00m \u001B[38;5;28mrange\u001B[39m(\u001B[38;5;28mlen\u001B[39m(batchSizes)) \u001B[38;5;28;01mif\u001B[39;00m \u001B[38;5;28mlen\u001B[39m(\u001B[38;5;28mself\u001B[39m\u001B[38;5;241m.\u001B[39mbatches[i]) \u001B[38;5;241m==\u001B[39m batchSize]\n\u001B[0;32m    466\u001B[0m \u001B[38;5;28mself\u001B[39m\u001B[38;5;241m.\u001B[39mbatches \u001B[38;5;241m=\u001B[39m [batch \u001B[38;5;28;01mfor\u001B[39;00m batch \u001B[38;5;129;01min\u001B[39;00m \u001B[38;5;28mself\u001B[39m\u001B[38;5;241m.\u001B[39mbatches \u001B[38;5;28;01mif\u001B[39;00m \u001B[38;5;28mlen\u001B[39m(batch) \u001B[38;5;241m==\u001B[39m batchSize]\n",
      "File \u001B[1;32mD:\\PycharmProjects\\ChickenScratch\\venv\\lib\\site-packages\\numpy\\__init__.py:440\u001B[0m, in \u001B[0;36m__getattr__\u001B[1;34m(attr)\u001B[0m\n\u001B[0;32m    437\u001B[0m     \u001B[38;5;28;01mimport\u001B[39;00m \u001B[38;5;21;01mnumpy\u001B[39;00m\u001B[38;5;21;01m.\u001B[39;00m\u001B[38;5;21;01mchar\u001B[39;00m \u001B[38;5;28;01mas\u001B[39;00m \u001B[38;5;21;01mchar\u001B[39;00m\n\u001B[0;32m    438\u001B[0m     \u001B[38;5;28;01mreturn\u001B[39;00m char\u001B[38;5;241m.\u001B[39mchararray\n\u001B[1;32m--> 440\u001B[0m \u001B[38;5;28;01mraise\u001B[39;00m \u001B[38;5;167;01mAttributeError\u001B[39;00m(\u001B[38;5;124m\"\u001B[39m\u001B[38;5;124mmodule \u001B[39m\u001B[38;5;132;01m{!r}\u001B[39;00m\u001B[38;5;124m has no attribute \u001B[39m\u001B[38;5;124m\"\u001B[39m\n\u001B[0;32m    441\u001B[0m                      \u001B[38;5;124m\"\u001B[39m\u001B[38;5;132;01m{!r}\u001B[39;00m\u001B[38;5;124m\"\u001B[39m\u001B[38;5;241m.\u001B[39mformat(\u001B[38;5;18m__name__\u001B[39m, attr))\n",
      "\u001B[1;31mAttributeError\u001B[0m: module 'numpy' has no attribute 'mode'"
     ]
    }
   ],
   "source": [
    "metrics = {\n",
    "    \"Precision\": CMALLoss()\n",
    "}\n",
    "\n",
    "model = trainModel(config, InundationStation, InundationData, CMALLoss(), epochs=10, criterion=metrics)"
   ]
  }
 ],
 "metadata": {
  "kernelspec": {
   "display_name": "Python 3",
   "language": "python",
   "name": "python3"
  },
  "language_info": {
   "codemirror_mode": {
    "name": "ipython",
    "version": 2
   },
   "file_extension": ".py",
   "mimetype": "text/x-python",
   "name": "python",
   "nbconvert_exporter": "python",
   "pygments_lexer": "ipython2",
   "version": "2.7.6"
  }
 },
 "nbformat": 4,
 "nbformat_minor": 0
}
