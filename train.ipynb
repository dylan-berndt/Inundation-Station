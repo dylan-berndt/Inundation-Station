{
 "cells": [
  {
   "cell_type": "code",
   "execution_count": 1,
   "metadata": {
    "collapsed": true
   },
   "outputs": [],
   "source": [
    "import torch\n",
    "\n",
    "from model import *\n",
    "from data import *\n",
    "from vis import *\n",
    "import gc\n",
    "\n",
    "import itertools"
   ]
  },
  {
   "cell_type": "code",
   "execution_count": 2,
   "metadata": {
    "collapsed": false
   },
   "outputs": [],
   "source": [
    "config = Config().load(\"config.json\")"
   ]
  },
  {
   "cell_type": "code",
   "execution_count": 3,
   "metadata": {
    "collapsed": false
   },
   "outputs": [],
   "source": [
    "def itertoolsBetter(dataIter):\n",
    "    while True:\n",
    "        for batch in dataIter:\n",
    "            yield batch\n",
    "\n",
    "\n",
    "def trainModel(config, modelClass, dataClass, objective, epochs, criterion: dict[str: nn.Module]):\n",
    "    model = None\n",
    "    try:\n",
    "        dataset = dataClass(config)\n",
    "\n",
    "        dataset.info(dataset[0])\n",
    "\n",
    "        trainSize = len(dataset)\n",
    "        # TODO: More stratified subsets using dataset.lengths and geographic information\n",
    "        train = torch.utils.data.Subset(dataset, range(int(trainSize * config.dataSplit)))\n",
    "        test = torch.utils.data.Subset(dataset, range(int(trainSize * config.dataSplit), trainSize))\n",
    "\n",
    "        trainSampler = GraphSizeSampler(train, nodesPerBatch=config.nodesPerBatch, force=False)\n",
    "        testSampler = GraphSizeSampler(test, nodesPerBatch=config.nodesPerBatch, force=False)\n",
    "\n",
    "        train = DataLoader(train, batch_sampler=trainSampler, generator=torch.Generator(device))\n",
    "        test = DataLoader(test, batch_sampler=testSampler, generator=torch.Generator(device))\n",
    "\n",
    "        dataset.info(next(iter(train)))\n",
    "\n",
    "        model = modelClass(config)\n",
    "        print(f\"Model has {sum([p.numel() for p in model.parameters()])} parameters\")\n",
    "        print(f\"Dataset has {len(dataset)} samples\")\n",
    "        print(next(model.parameters()).is_cuda)\n",
    "\n",
    "        optimizer = torch.optim.Adam(model.parameters(), lr=1e-4)\n",
    "\n",
    "        testIter = itertoolsBetter(test)\n",
    "\n",
    "        client = Client(\"127.0.0.1\", 12945)\n",
    "\n",
    "        for epoch in range(epochs):\n",
    "            progress = 0\n",
    "            for inputs, targets in train:\n",
    "                model.train()\n",
    "                optimizer.zero_grad()\n",
    "\n",
    "                metrics = {}\n",
    "\n",
    "                history, future = targets.dischargeHistory, targets.dischargeFuture\n",
    "                thresholds, deviations = targets.thresholds, targets.deviation.unsqueeze(-1)\n",
    "                hindcast, forecast = model(inputs)\n",
    "                loss = objective(forecast, future)\n",
    "\n",
    "                for eval in criterion:\n",
    "                    evaluated = criterion[eval](forecast, future, thresholds=thresholds, deviation=deviations)\n",
    "                    metrics[\"Train \" + eval] = evaluated\n",
    "\n",
    "                # TODO: Determine source of nans\n",
    "                if torch.isnan(loss) or torch.isinf(loss):\n",
    "                    print(f\"\\nNAN FOUND IN LOSS\")\n",
    "                    dataset.info((inputs, targets))\n",
    "                    print(\"\\n\")\n",
    "                    continue\n",
    "\n",
    "                trainLoss = loss.detach().item()\n",
    "\n",
    "                loss.backward()\n",
    "\n",
    "                torch.nn.utils.clip_grad_norm_(model.parameters(), 10)\n",
    "                torch.nn.utils.clip_grad_value_(model.parameters(), 10)\n",
    "\n",
    "                optimizer.step()\n",
    "\n",
    "                torch.cuda.empty_cache()\n",
    "\n",
    "                with torch.no_grad():\n",
    "                    model.eval()\n",
    "                    inputs1, targets1 = next(testIter)\n",
    "\n",
    "                    history1, future1 = targets1.dischargeHistory, targets1.dischargeFuture\n",
    "                    thresholds1, deviations1 = targets1.thresholds, targets1.deviation.unsqueeze(-1)\n",
    "                    hindcast1, forecast1 = model(inputs1)\n",
    "                    loss1 = objective(forecast1, future1)\n",
    "                    testLoss = loss1.detach().item()\n",
    "\n",
    "                    for eval in criterion:\n",
    "                        evaluated = criterion[eval](forecast1, future1, thresholds=thresholds1, deviation=deviations1)\n",
    "                        metrics[\"Test \" + eval] = evaluated\n",
    "\n",
    "                if (progress + 1) % 10 == 0:\n",
    "                    gc.collect()\n",
    "\n",
    "                client.send(\"Train Loss\", trainLoss)\n",
    "                client.send(\"Test Loss\", testLoss)\n",
    "\n",
    "                for metric in metrics:\n",
    "                    client.send(metric, metrics[metric])\n",
    "\n",
    "                progress += 1\n",
    "\n",
    "                print(f\"\\r{progress}/{len(train)} | {(progress / len(train)) * 100:.3f}% |  Train Loss: {trainLoss} | Test Loss: {testLoss} | Memory: {torch.cuda.memory_allocated()}\", end=\"\")\n",
    "            print()\n",
    "\n",
    "        return model\n",
    "\n",
    "    except KeyboardInterrupt:\n",
    "        if model is not None:\n",
    "            torch.save(model.state_dict(), \"checkpoint.pt\")\n",
    "        return model"
   ]
  },
  {
   "cell_type": "code",
   "execution_count": 4,
   "metadata": {
    "collapsed": false
   },
   "outputs": [
    {
     "name": "stdout",
     "output_type": "stream",
     "text": [
      "Loading GeoPandas...\n",
      "GeoPandas Loaded\n",
      "2544/2544 GRDC files loaded\n",
      "9640/9640 ERA5 files loaded\n",
      "Total empty basins: 37\n",
      "57622/57646 Basin Structures Appended to Graph\n",
      "Upstream Basins Compiled | 1.0 | 17.43485477178423\n",
      "Upstream Structures Compiled\n",
      "Structure Tensors Complete\n",
      "Index Mapping Complete\n",
      "Static Input Scaling Complete\n",
      "\n",
      "        Total Samples: 29254761\n",
      "        Era5 History: torch.Size([1, 120, 7]) torch.float32 -1.1682096719741821 20.482315063476562\n",
      "        Era5 Future: torch.Size([1, 7, 7]) torch.float32 -1.1123478412628174 2.270690441131592 \n",
      "        Basin Continuous: torch.Size([1, 277]) torch.float32 -0.8782722353935242 4.530961990356445 \n",
      "        Basin Discrete: torch.Size([1, 10]) torch.int64 3 587 \n",
      "        Structure: torch.Size([2, 1]) torch.int64 0 0 \n",
      "        River Continuous: torch.Size([258]) torch.float32 -2.1314620971679688 6.499033451080322 \n",
      "        River Discrete: torch.Size([14]) torch.int64 0 2 \n",
      "        Discharge History: torch.Size([120]) torch.float32 -0.08110067248344421 -0.06822606176137924 \n",
      "        Discharge Future: torch.Size([7]) torch.float32 -0.07720516622066498 -0.07612180709838867 \n",
      "        Thresholds: torch.Size([4]) torch.float32 -0.08207584917545319 -0.07326257228851318 \n",
      "        Deviation: torch.Size([]) torch.float32 0.4764629304409027 0.4764629304409027 \n",
      "        \n"
     ]
    },
    {
     "ename": "MemoryError",
     "evalue": "",
     "output_type": "error",
     "traceback": [
      "\u001b[1;31m---------------------------------------------------------------------------\u001b[0m",
      "\u001b[1;31mMemoryError\u001b[0m                               Traceback (most recent call last)",
      "Cell \u001b[1;32mIn[4], line 5\u001b[0m\n\u001b[0;32m      1\u001b[0m metrics \u001b[38;5;241m=\u001b[39m {\n\u001b[0;32m      2\u001b[0m     \u001b[38;5;124m\"\u001b[39m\u001b[38;5;124mPrecision\u001b[39m\u001b[38;5;124m\"\u001b[39m: CMALLoss()\n\u001b[0;32m      3\u001b[0m }\n\u001b[1;32m----> 5\u001b[0m model \u001b[38;5;241m=\u001b[39m \u001b[43mtrainModel\u001b[49m\u001b[43m(\u001b[49m\u001b[43mconfig\u001b[49m\u001b[43m,\u001b[49m\u001b[43m \u001b[49m\u001b[43mInundationStation\u001b[49m\u001b[43m,\u001b[49m\u001b[43m \u001b[49m\u001b[43mInundationData\u001b[49m\u001b[43m,\u001b[49m\u001b[43m \u001b[49m\u001b[43mCMALLoss\u001b[49m\u001b[43m(\u001b[49m\u001b[43m)\u001b[49m\u001b[43m,\u001b[49m\u001b[43m \u001b[49m\u001b[43mepochs\u001b[49m\u001b[38;5;241;43m=\u001b[39;49m\u001b[38;5;241;43m10\u001b[39;49m\u001b[43m,\u001b[49m\u001b[43m \u001b[49m\u001b[43mcriterion\u001b[49m\u001b[38;5;241;43m=\u001b[39;49m\u001b[43mmetrics\u001b[49m\u001b[43m)\u001b[49m\n",
      "Cell \u001b[1;32mIn[3], line 19\u001b[0m, in \u001b[0;36mtrainModel\u001b[1;34m(config, modelClass, dataClass, objective, epochs, criterion)\u001b[0m\n\u001b[0;32m     16\u001b[0m train \u001b[38;5;241m=\u001b[39m torch\u001b[38;5;241m.\u001b[39mutils\u001b[38;5;241m.\u001b[39mdata\u001b[38;5;241m.\u001b[39mSubset(dataset, \u001b[38;5;28mrange\u001b[39m(\u001b[38;5;28mint\u001b[39m(trainSize \u001b[38;5;241m*\u001b[39m config\u001b[38;5;241m.\u001b[39mdataSplit)))\n\u001b[0;32m     17\u001b[0m test \u001b[38;5;241m=\u001b[39m torch\u001b[38;5;241m.\u001b[39mutils\u001b[38;5;241m.\u001b[39mdata\u001b[38;5;241m.\u001b[39mSubset(dataset, \u001b[38;5;28mrange\u001b[39m(\u001b[38;5;28mint\u001b[39m(trainSize \u001b[38;5;241m*\u001b[39m config\u001b[38;5;241m.\u001b[39mdataSplit), trainSize))\n\u001b[1;32m---> 19\u001b[0m trainSampler \u001b[38;5;241m=\u001b[39m \u001b[43mGraphSizeSampler\u001b[49m\u001b[43m(\u001b[49m\u001b[43mtrain\u001b[49m\u001b[43m,\u001b[49m\u001b[43m \u001b[49m\u001b[43mnodesPerBatch\u001b[49m\u001b[38;5;241;43m=\u001b[39;49m\u001b[43mconfig\u001b[49m\u001b[38;5;241;43m.\u001b[39;49m\u001b[43mnodesPerBatch\u001b[49m\u001b[43m,\u001b[49m\u001b[43m \u001b[49m\u001b[43mforce\u001b[49m\u001b[38;5;241;43m=\u001b[39;49m\u001b[38;5;28;43;01mFalse\u001b[39;49;00m\u001b[43m)\u001b[49m\n\u001b[0;32m     20\u001b[0m testSampler \u001b[38;5;241m=\u001b[39m GraphSizeSampler(test, nodesPerBatch\u001b[38;5;241m=\u001b[39mconfig\u001b[38;5;241m.\u001b[39mnodesPerBatch, force\u001b[38;5;241m=\u001b[39m\u001b[38;5;28;01mFalse\u001b[39;00m)\n\u001b[0;32m     22\u001b[0m train \u001b[38;5;241m=\u001b[39m DataLoader(train, batch_sampler\u001b[38;5;241m=\u001b[39mtrainSampler, generator\u001b[38;5;241m=\u001b[39mtorch\u001b[38;5;241m.\u001b[39mGenerator(device))\n",
      "File \u001b[1;32mD:\\PycharmProjects\\Basin Differentiation\\data.py:480\u001b[0m, in \u001b[0;36mGraphSizeSampler.__init__\u001b[1;34m(self, dataset, nodesPerBatch, dropLast, force)\u001b[0m\n\u001b[0;32m    478\u001b[0m plt\u001b[38;5;241m.\u001b[39msubplot(\u001b[38;5;241m1\u001b[39m, \u001b[38;5;241m3\u001b[39m, \u001b[38;5;241m1\u001b[39m)\n\u001b[0;32m    479\u001b[0m plt\u001b[38;5;241m.\u001b[39mtitle(\u001b[38;5;124m\"\u001b[39m\u001b[38;5;124mNode Count Distribution per Sample\u001b[39m\u001b[38;5;124m\"\u001b[39m)\n\u001b[1;32m--> 480\u001b[0m \u001b[43mplt\u001b[49m\u001b[38;5;241;43m.\u001b[39;49m\u001b[43mhist\u001b[49m\u001b[43m(\u001b[49m\u001b[43msizes\u001b[49m\u001b[43m)\u001b[49m\n\u001b[0;32m    482\u001b[0m plt\u001b[38;5;241m.\u001b[39msubplot(\u001b[38;5;241m1\u001b[39m, \u001b[38;5;241m3\u001b[39m, \u001b[38;5;241m2\u001b[39m)\n\u001b[0;32m    483\u001b[0m plt\u001b[38;5;241m.\u001b[39mtitle(\u001b[38;5;124m\"\u001b[39m\u001b[38;5;124mNode Count Distribution per Batch\u001b[39m\u001b[38;5;124m\"\u001b[39m)\n",
      "File \u001b[1;32mD:\\PycharmProjects\\ChickenScratch\\venv\\lib\\site-packages\\matplotlib\\pyplot.py:3440\u001b[0m, in \u001b[0;36mhist\u001b[1;34m(x, bins, range, density, weights, cumulative, bottom, histtype, align, orientation, rwidth, log, color, label, stacked, data, **kwargs)\u001b[0m\n\u001b[0;32m   3415\u001b[0m \u001b[38;5;129m@_copy_docstring_and_deprecators\u001b[39m(Axes\u001b[38;5;241m.\u001b[39mhist)\n\u001b[0;32m   3416\u001b[0m \u001b[38;5;28;01mdef\u001b[39;00m \u001b[38;5;21mhist\u001b[39m(\n\u001b[0;32m   3417\u001b[0m     x: ArrayLike \u001b[38;5;241m|\u001b[39m Sequence[ArrayLike],\n\u001b[1;32m   (...)\u001b[0m\n\u001b[0;32m   3438\u001b[0m     BarContainer \u001b[38;5;241m|\u001b[39m Polygon \u001b[38;5;241m|\u001b[39m \u001b[38;5;28mlist\u001b[39m[BarContainer \u001b[38;5;241m|\u001b[39m Polygon],\n\u001b[0;32m   3439\u001b[0m ]:\n\u001b[1;32m-> 3440\u001b[0m     \u001b[38;5;28;01mreturn\u001b[39;00m gca()\u001b[38;5;241m.\u001b[39mhist(\n\u001b[0;32m   3441\u001b[0m         x,\n\u001b[0;32m   3442\u001b[0m         bins\u001b[38;5;241m=\u001b[39mbins,\n\u001b[0;32m   3443\u001b[0m         \u001b[38;5;28mrange\u001b[39m\u001b[38;5;241m=\u001b[39m\u001b[38;5;28mrange\u001b[39m,\n\u001b[0;32m   3444\u001b[0m         density\u001b[38;5;241m=\u001b[39mdensity,\n\u001b[0;32m   3445\u001b[0m         weights\u001b[38;5;241m=\u001b[39mweights,\n\u001b[0;32m   3446\u001b[0m         cumulative\u001b[38;5;241m=\u001b[39mcumulative,\n\u001b[0;32m   3447\u001b[0m         bottom\u001b[38;5;241m=\u001b[39mbottom,\n\u001b[0;32m   3448\u001b[0m         histtype\u001b[38;5;241m=\u001b[39mhisttype,\n\u001b[0;32m   3449\u001b[0m         align\u001b[38;5;241m=\u001b[39malign,\n\u001b[0;32m   3450\u001b[0m         orientation\u001b[38;5;241m=\u001b[39morientation,\n\u001b[0;32m   3451\u001b[0m         rwidth\u001b[38;5;241m=\u001b[39mrwidth,\n\u001b[0;32m   3452\u001b[0m         log\u001b[38;5;241m=\u001b[39mlog,\n\u001b[0;32m   3453\u001b[0m         color\u001b[38;5;241m=\u001b[39mcolor,\n\u001b[0;32m   3454\u001b[0m         label\u001b[38;5;241m=\u001b[39mlabel,\n\u001b[0;32m   3455\u001b[0m         stacked\u001b[38;5;241m=\u001b[39mstacked,\n\u001b[0;32m   3456\u001b[0m         \u001b[38;5;241m*\u001b[39m\u001b[38;5;241m*\u001b[39m({\u001b[38;5;124m\"\u001b[39m\u001b[38;5;124mdata\u001b[39m\u001b[38;5;124m\"\u001b[39m: data} \u001b[38;5;28;01mif\u001b[39;00m data \u001b[38;5;129;01mis\u001b[39;00m \u001b[38;5;129;01mnot\u001b[39;00m \u001b[38;5;28;01mNone\u001b[39;00m \u001b[38;5;28;01melse\u001b[39;00m {}),\n\u001b[0;32m   3457\u001b[0m         \u001b[38;5;241m*\u001b[39m\u001b[38;5;241m*\u001b[39mkwargs,\n\u001b[0;32m   3458\u001b[0m     )\n",
      "File \u001b[1;32mD:\\PycharmProjects\\ChickenScratch\\venv\\lib\\site-packages\\matplotlib\\__init__.py:1476\u001b[0m, in \u001b[0;36m_preprocess_data.<locals>.inner\u001b[1;34m(ax, data, *args, **kwargs)\u001b[0m\n\u001b[0;32m   1473\u001b[0m \u001b[38;5;129m@functools\u001b[39m\u001b[38;5;241m.\u001b[39mwraps(func)\n\u001b[0;32m   1474\u001b[0m \u001b[38;5;28;01mdef\u001b[39;00m \u001b[38;5;21minner\u001b[39m(ax, \u001b[38;5;241m*\u001b[39margs, data\u001b[38;5;241m=\u001b[39m\u001b[38;5;28;01mNone\u001b[39;00m, \u001b[38;5;241m*\u001b[39m\u001b[38;5;241m*\u001b[39mkwargs):\n\u001b[0;32m   1475\u001b[0m     \u001b[38;5;28;01mif\u001b[39;00m data \u001b[38;5;129;01mis\u001b[39;00m \u001b[38;5;28;01mNone\u001b[39;00m:\n\u001b[1;32m-> 1476\u001b[0m         \u001b[38;5;28;01mreturn\u001b[39;00m func(\n\u001b[0;32m   1477\u001b[0m             ax,\n\u001b[0;32m   1478\u001b[0m             \u001b[38;5;241m*\u001b[39m\u001b[38;5;28mmap\u001b[39m(sanitize_sequence, args),\n\u001b[0;32m   1479\u001b[0m             \u001b[38;5;241m*\u001b[39m\u001b[38;5;241m*\u001b[39m{k: sanitize_sequence(v) \u001b[38;5;28;01mfor\u001b[39;00m k, v \u001b[38;5;129;01min\u001b[39;00m kwargs\u001b[38;5;241m.\u001b[39mitems()})\n\u001b[0;32m   1481\u001b[0m     bound \u001b[38;5;241m=\u001b[39m new_sig\u001b[38;5;241m.\u001b[39mbind(ax, \u001b[38;5;241m*\u001b[39margs, \u001b[38;5;241m*\u001b[39m\u001b[38;5;241m*\u001b[39mkwargs)\n\u001b[0;32m   1482\u001b[0m     auto_label \u001b[38;5;241m=\u001b[39m (bound\u001b[38;5;241m.\u001b[39marguments\u001b[38;5;241m.\u001b[39mget(label_namer)\n\u001b[0;32m   1483\u001b[0m                   \u001b[38;5;129;01mor\u001b[39;00m bound\u001b[38;5;241m.\u001b[39mkwargs\u001b[38;5;241m.\u001b[39mget(label_namer))\n",
      "File \u001b[1;32mD:\\PycharmProjects\\ChickenScratch\\venv\\lib\\site-packages\\matplotlib\\axes\\_axes.py:6914\u001b[0m, in \u001b[0;36mAxes.hist\u001b[1;34m(self, x, bins, range, density, weights, cumulative, bottom, histtype, align, orientation, rwidth, log, color, label, stacked, **kwargs)\u001b[0m\n\u001b[0;32m   6911\u001b[0m     stacked \u001b[38;5;241m=\u001b[39m \u001b[38;5;28;01mTrue\u001b[39;00m\n\u001b[0;32m   6913\u001b[0m \u001b[38;5;66;03m# Massage 'x' for processing.\u001b[39;00m\n\u001b[1;32m-> 6914\u001b[0m x \u001b[38;5;241m=\u001b[39m \u001b[43mcbook\u001b[49m\u001b[38;5;241;43m.\u001b[39;49m\u001b[43m_reshape_2D\u001b[49m\u001b[43m(\u001b[49m\u001b[43mx\u001b[49m\u001b[43m,\u001b[49m\u001b[43m \u001b[49m\u001b[38;5;124;43m'\u001b[39;49m\u001b[38;5;124;43mx\u001b[39;49m\u001b[38;5;124;43m'\u001b[39;49m\u001b[43m)\u001b[49m\n\u001b[0;32m   6915\u001b[0m nx \u001b[38;5;241m=\u001b[39m \u001b[38;5;28mlen\u001b[39m(x)  \u001b[38;5;66;03m# number of datasets\u001b[39;00m\n\u001b[0;32m   6917\u001b[0m \u001b[38;5;66;03m# Process unit information.  _process_unit_info sets the unit and\u001b[39;00m\n\u001b[0;32m   6918\u001b[0m \u001b[38;5;66;03m# converts the first dataset; then we convert each following dataset\u001b[39;00m\n\u001b[0;32m   6919\u001b[0m \u001b[38;5;66;03m# one at a time.\u001b[39;00m\n",
      "File \u001b[1;32mD:\\PycharmProjects\\ChickenScratch\\venv\\lib\\site-packages\\matplotlib\\cbook.py:1470\u001b[0m, in \u001b[0;36m_reshape_2D\u001b[1;34m(X, name)\u001b[0m\n\u001b[0;32m   1466\u001b[0m     result\u001b[38;5;241m.\u001b[39mappend(xi\u001b[38;5;241m.\u001b[39mreshape(\u001b[38;5;241m-\u001b[39m\u001b[38;5;241m1\u001b[39m))\n\u001b[0;32m   1468\u001b[0m \u001b[38;5;28;01mif\u001b[39;00m is_1d:\n\u001b[0;32m   1469\u001b[0m     \u001b[38;5;66;03m# 1D array of scalars: directly return it.\u001b[39;00m\n\u001b[1;32m-> 1470\u001b[0m     \u001b[38;5;28;01mreturn\u001b[39;00m [\u001b[43mnp\u001b[49m\u001b[38;5;241;43m.\u001b[39;49m\u001b[43mreshape\u001b[49m\u001b[43m(\u001b[49m\u001b[43mresult\u001b[49m\u001b[43m,\u001b[49m\u001b[43m \u001b[49m\u001b[38;5;241;43m-\u001b[39;49m\u001b[38;5;241;43m1\u001b[39;49m\u001b[43m)\u001b[49m]\n\u001b[0;32m   1471\u001b[0m \u001b[38;5;28;01melse\u001b[39;00m:\n\u001b[0;32m   1472\u001b[0m     \u001b[38;5;66;03m# 2D array, or 1D array of iterables: use flattened version.\u001b[39;00m\n\u001b[0;32m   1473\u001b[0m     \u001b[38;5;28;01mreturn\u001b[39;00m result\n",
      "File \u001b[1;32mD:\\PycharmProjects\\ChickenScratch\\venv\\lib\\site-packages\\numpy\\_core\\fromnumeric.py:299\u001b[0m, in \u001b[0;36mreshape\u001b[1;34m(a, newshape, order)\u001b[0m\n\u001b[0;32m    214\u001b[0m \u001b[38;5;129m@array_function_dispatch\u001b[39m(_reshape_dispatcher)\n\u001b[0;32m    215\u001b[0m \u001b[38;5;28;01mdef\u001b[39;00m \u001b[38;5;21mreshape\u001b[39m(a, newshape, order\u001b[38;5;241m=\u001b[39m\u001b[38;5;124m'\u001b[39m\u001b[38;5;124mC\u001b[39m\u001b[38;5;124m'\u001b[39m):\n\u001b[0;32m    216\u001b[0m \u001b[38;5;250m    \u001b[39m\u001b[38;5;124;03m\"\"\"\u001b[39;00m\n\u001b[0;32m    217\u001b[0m \u001b[38;5;124;03m    Gives a new shape to an array without changing its data.\u001b[39;00m\n\u001b[0;32m    218\u001b[0m \n\u001b[1;32m   (...)\u001b[0m\n\u001b[0;32m    297\u001b[0m \u001b[38;5;124;03m           [5, 6]])\u001b[39;00m\n\u001b[0;32m    298\u001b[0m \u001b[38;5;124;03m    \"\"\"\u001b[39;00m\n\u001b[1;32m--> 299\u001b[0m     \u001b[38;5;28;01mreturn\u001b[39;00m \u001b[43m_wrapfunc\u001b[49m\u001b[43m(\u001b[49m\u001b[43ma\u001b[49m\u001b[43m,\u001b[49m\u001b[43m \u001b[49m\u001b[38;5;124;43m'\u001b[39;49m\u001b[38;5;124;43mreshape\u001b[39;49m\u001b[38;5;124;43m'\u001b[39;49m\u001b[43m,\u001b[49m\u001b[43m \u001b[49m\u001b[43mnewshape\u001b[49m\u001b[43m,\u001b[49m\u001b[43m \u001b[49m\u001b[43morder\u001b[49m\u001b[38;5;241;43m=\u001b[39;49m\u001b[43morder\u001b[49m\u001b[43m)\u001b[49m\n",
      "File \u001b[1;32mD:\\PycharmProjects\\ChickenScratch\\venv\\lib\\site-packages\\numpy\\_core\\fromnumeric.py:54\u001b[0m, in \u001b[0;36m_wrapfunc\u001b[1;34m(obj, method, *args, **kwds)\u001b[0m\n\u001b[0;32m     52\u001b[0m bound \u001b[38;5;241m=\u001b[39m \u001b[38;5;28mgetattr\u001b[39m(obj, method, \u001b[38;5;28;01mNone\u001b[39;00m)\n\u001b[0;32m     53\u001b[0m \u001b[38;5;28;01mif\u001b[39;00m bound \u001b[38;5;129;01mis\u001b[39;00m \u001b[38;5;28;01mNone\u001b[39;00m:\n\u001b[1;32m---> 54\u001b[0m     \u001b[38;5;28;01mreturn\u001b[39;00m _wrapit(obj, method, \u001b[38;5;241m*\u001b[39margs, \u001b[38;5;241m*\u001b[39m\u001b[38;5;241m*\u001b[39mkwds)\n\u001b[0;32m     56\u001b[0m \u001b[38;5;28;01mtry\u001b[39;00m:\n\u001b[0;32m     57\u001b[0m     \u001b[38;5;28;01mreturn\u001b[39;00m bound(\u001b[38;5;241m*\u001b[39margs, \u001b[38;5;241m*\u001b[39m\u001b[38;5;241m*\u001b[39mkwds)\n",
      "File \u001b[1;32mD:\\PycharmProjects\\ChickenScratch\\venv\\lib\\site-packages\\numpy\\_core\\fromnumeric.py:42\u001b[0m, in \u001b[0;36m_wrapit\u001b[1;34m(obj, method, *args, **kwds)\u001b[0m\n\u001b[0;32m     41\u001b[0m \u001b[38;5;28;01mdef\u001b[39;00m \u001b[38;5;21m_wrapit\u001b[39m(obj, method, \u001b[38;5;241m*\u001b[39margs, \u001b[38;5;241m*\u001b[39m\u001b[38;5;241m*\u001b[39mkwds):\n\u001b[1;32m---> 42\u001b[0m     conv \u001b[38;5;241m=\u001b[39m \u001b[43m_array_converter\u001b[49m\u001b[43m(\u001b[49m\u001b[43mobj\u001b[49m\u001b[43m)\u001b[49m\n\u001b[0;32m     43\u001b[0m     \u001b[38;5;66;03m# As this already tried the method, subok is maybe quite reasonable here\u001b[39;00m\n\u001b[0;32m     44\u001b[0m     \u001b[38;5;66;03m# but this follows what was done before. TODO: revisit this.\u001b[39;00m\n\u001b[0;32m     45\u001b[0m     arr, \u001b[38;5;241m=\u001b[39m conv\u001b[38;5;241m.\u001b[39mas_arrays(subok\u001b[38;5;241m=\u001b[39m\u001b[38;5;28;01mFalse\u001b[39;00m)\n",
      "\u001b[1;31mMemoryError\u001b[0m: "
     ]
    },
    {
     "data": {
      "image/png": "[encoded data removed]",
      "text/plain": [
       "<Figure size 640x480 with 1 Axes>"
      ]
     },
     "metadata": {},
     "output_type": "display_data"
    }
   ],
   "source": [
    "metrics = {\n",
    "    \"NMAE\": CMALNormalizedMeanAbsolute(),\n",
    "    \"1 Year Flood Precision\": CMALPrecision(),\n",
    "    \"1 Year Flood Recall\": CMALRecall()\n",
    "}\n",
    "\n",
    "model = trainModel(config, InundationStation, InundationData, CMALLoss(), epochs=10, criterion=metrics)"
   ]
  },
  {
   "cell_type": "code",
   "execution_count": null,
   "metadata": {
    "collapsed": false
   },
   "outputs": [],
   "source": []
  }
 ],
 "metadata": {
  "kernelspec": {
   "display_name": "Python 3",
   "language": "python",
   "name": "python3"
  },
  "language_info": {
   "codemirror_mode": {
    "name": "ipython",
    "version": 2
   },
   "file_extension": ".py",
   "mimetype": "text/x-python",
   "name": "python",
   "nbconvert_exporter": "python",
   "pygments_lexer": "ipython2",
   "version": "2.7.6"
  }
 },
 "nbformat": 4,
 "nbformat_minor": 0
}
