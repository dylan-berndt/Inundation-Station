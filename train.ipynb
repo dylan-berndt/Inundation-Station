{
 "cells": [
  {
   "cell_type": "code",
   "execution_count": null,
   "metadata": {
    "collapsed": true
   },
   "outputs": [],
   "source": [
    "from model import *\n",
    "from data import *"
   ]
  },
  {
   "cell_type": "code",
   "execution_count": null,
   "metadata": {
    "collapsed": false
   },
   "outputs": [],
   "source": [
    "device = 'cuda' if torch.cuda.is_available() else 'cpu'\n",
    "torch.set_default_device(device)"
   ]
  },
  {
   "cell_type": "code",
   "execution_count": null,
   "metadata": {
    "collapsed": false
   },
   "outputs": [],
   "source": [
    "config = Config().load(\"config.json\")"
   ]
  },
  {
   "cell_type": "code",
   "execution_count": null,
   "metadata": {
    "collapsed": false
   },
   "outputs": [],
   "source": [
    "dataset = InundationData(config)"
   ]
  },
  {
   "cell_type": "code",
   "execution_count": null,
   "metadata": {
    "collapsed": false
   },
   "outputs": [],
   "source": [
    "trainSize = len(dataset)\n",
    "train = torch.utils.data.Subset(dataset, range(int(trainSize * 0.8)))\n",
    "test = torch.utils.data.Subset(dataset, range(int(trainSize * 0.8), trainSize))"
   ]
  },
  {
   "cell_type": "code",
   "execution_count": null,
   "metadata": {
    "collapsed": false
   },
   "outputs": [],
   "source": [
    "train = DataLoader(train, batch_size=config.batchSize, pin_memory=True)\n",
    "test = DataLoader(test, batch_size=config.batchSize, pin_memory=True)"
   ]
  },
  {
   "cell_type": "code",
   "execution_count": null,
   "metadata": {
    "collapsed": false
   },
   "outputs": [],
   "source": [
    "# Hyperparameters for tuning\n",
    "#\n",
    "# History steps\n",
    "# Future steps\n",
    "#\n",
    "# Discrete projection dims (Basin and River)\n",
    "# Projection dimension (Basin and River)\n",
    "#\n",
    "# Graph attention hidden dimension\n",
    "# Graph attention layers\n",
    "#\n",
    "# LSTM layers\n",
    "# LSTM hidden dimension\n",
    "#\n",
    "# CMAL hidden dimension\n",
    "# CMAL mixtures\n",
    "#\n",
    "# Dropout (Probably not)\n",
    "# Batch size (Probably not)\n",
    "#\n",
    "# x2 for encoder and decoder?"
   ]
  }
 ],
 "metadata": {
  "kernelspec": {
   "display_name": "Python 3",
   "language": "python",
   "name": "python3"
  },
  "language_info": {
   "codemirror_mode": {
    "name": "ipython",
    "version": 2
   },
   "file_extension": ".py",
   "mimetype": "text/x-python",
   "name": "python",
   "nbconvert_exporter": "python",
   "pygments_lexer": "ipython2",
   "version": "2.7.6"
  }
 },
 "nbformat": 4,
 "nbformat_minor": 0
}
