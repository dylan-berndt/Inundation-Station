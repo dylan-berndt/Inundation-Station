{
 "cells": [
  {
   "cell_type": "code",
   "execution_count": 1,
   "metadata": {
    "collapsed": true
   },
   "outputs": [],
   "source": [
    "import torch\n",
    "\n",
    "from model import *\n",
    "from data import *\n",
    "\n",
    "import itertools"
   ]
  },
  {
   "cell_type": "code",
   "execution_count": 2,
   "metadata": {
    "collapsed": false
   },
   "outputs": [],
   "source": [
    "config = Config().load(\"config.json\")"
   ]
  },
  {
   "cell_type": "code",
   "execution_count": 3,
   "metadata": {
    "collapsed": false
   },
   "outputs": [],
   "source": [
    "# Hyperparameters for tuning\n",
    "#\n",
    "# History steps\n",
    "# Future steps\n",
    "#\n",
    "# Discrete projection dims (Basin and River)\n",
    "# Projection dimension (Basin and River)\n",
    "#\n",
    "# Graph attention hidden dimension\n",
    "# Graph attention layers\n",
    "#\n",
    "# LSTM layers\n",
    "# LSTM hidden dimension\n",
    "#\n",
    "# CMAL hidden dimension\n",
    "# CMAL mixtures\n",
    "#\n",
    "# Dropout (Probably not)\n",
    "# Batch size (Probably not)\n",
    "#\n",
    "# x2 for encoder and decoder?"
   ]
  },
  {
   "cell_type": "code",
   "execution_count": 4,
   "metadata": {
    "collapsed": false
   },
   "outputs": [],
   "source": [
    "def trainModel(config, modelClass, dataClass, objective, epochs, criterion: dict[str: nn.Module]):\n",
    "    dataset = dataClass(config)\n",
    "\n",
    "    dataset.info(dataset[0])\n",
    "\n",
    "    trainSize = len(dataset)\n",
    "    train = torch.utils.data.Subset(dataset, range(int(trainSize * config.dataSplit)))\n",
    "    test = torch.utils.data.Subset(dataset, range(int(trainSize * config.dataSplit), trainSize))\n",
    "\n",
    "    train = DataLoader(train, batch_size=config.batchSize, shuffle=True, generator=torch.Generator(device))\n",
    "    test = DataLoader(test, batch_size=config.batchSize, shuffle=True, generator=torch.Generator(device))\n",
    "\n",
    "    print(\"Dataloader Shuffled\")\n",
    "\n",
    "    dataset.info(next(iter(train)))\n",
    "\n",
    "    model = modelClass(config)\n",
    "    print(f\"Model has {sum([p.numel() for p in model.parameters()])} parameters\")\n",
    "    print(f\"Dataset has {len(dataset)} samples\")\n",
    "\n",
    "    optimizer = torch.optim.Adam(model.parameters(), lr=1e-4)\n",
    "\n",
    "    testIter = itertools.cycle(test)\n",
    "\n",
    "    for epoch in range(epochs):\n",
    "        progress = 0\n",
    "        for inputs, targets in train:\n",
    "            model.train()\n",
    "            optimizer.zero_grad()\n",
    "\n",
    "            history, future, thresholds = targets.dischargeHistory, targets.dischargeFuture, targets.thresholds\n",
    "            hindcast, forecast = model(inputs)\n",
    "            loss = objective(hindcast, history[:, -1].unsqueeze(1))\n",
    "            trainLoss = loss.item()\n",
    "\n",
    "            loss.backward()\n",
    "            optimizer.step()\n",
    "\n",
    "            with torch.no_grad():\n",
    "                model.eval()\n",
    "                inputs, targets = next(testIter)\n",
    "\n",
    "                history, future, thresholds = targets.dischargeHistory, targets.dischargeFuture, targets.thresholds\n",
    "                hindcast, forecast = model(inputs)\n",
    "                loss = objective(hindcast, history[:, -1].unsqueeze(1))\n",
    "                testLoss = loss.item()\n",
    "\n",
    "            progress += 1\n",
    "            print(f\"\\r{progress}/{len(train)} | {(progress / len(train)) * 100:.3f}% |  Train Loss: {trainLoss} | Test Loss: {testLoss}\")\n",
    "        print()\n",
    "\n",
    "    return model"
   ]
  },
  {
   "cell_type": "code",
   "execution_count": null,
   "metadata": {
    "collapsed": false
   },
   "outputs": [
    {
     "name": "stdout",
     "output_type": "stream",
     "text": [
      "Loading GeoPandas...\n",
      "GeoPandas Loaded\n",
      "2544/2544 GRDC files loaded\n",
      "9640/9640 ERA5 files loaded\n",
      "Total empty basins: 37\n",
      "57622/57646 Basin Structures Appended to Graph\n",
      "Upstream Basins Compiled | 1.0 | 17.43485477178423\n",
      "Upstream Structures Compiled\n",
      "Structure Tensors Complete\n",
      "Index Mapping Complete\n",
      "Static Input Scaling Complete\n",
      "\n",
      "        Total Samples: 28683059\n",
      "        Era5 History: torch.Size([1, 365, 7]) torch.float32\n",
      "        Era5 Future: torch.Size([1, 7, 7]) torch.float32\n",
      "        Basin Continuous: torch.Size([1, 277]) torch.float32\n",
      "        Basin Discrete: torch.Size([1, 10]) torch.int64\n",
      "        Structure: torch.Size([2, 1]) torch.int64\n",
      "        River Continuous: torch.Size([258]) torch.float32\n",
      "        River Discrete: torch.Size([14]) torch.int64\n",
      "        Discharge History: torch.Size([365]) torch.float32\n",
      "        Discharge Future: torch.Size([7]) torch.float32\n",
      "        Thresholds: torch.Size([4]) torch.float32\n",
      "        \n",
      "Dataloader Shuffled\n",
      "\n",
      "        Total Samples: 28683059\n",
      "        Era5 History: torch.Size([38, 365, 7]) torch.float32\n",
      "        Era5 Future: torch.Size([38, 7, 7]) torch.float32\n",
      "        Basin Continuous: torch.Size([38, 277]) torch.float32\n",
      "        Basin Discrete: torch.Size([38, 10]) torch.int64\n",
      "        Structure: torch.Size([2, 60]) torch.int64\n",
      "        River Continuous: torch.Size([16, 258]) torch.float32\n",
      "        River Discrete: torch.Size([16, 14]) torch.int64\n",
      "        Discharge History: torch.Size([16, 365]) torch.float32\n",
      "        Discharge Future: torch.Size([16, 7]) torch.float32\n",
      "        Thresholds: torch.Size([16, 4]) torch.float32\n",
      "        \n",
      "Model has 1131640 parameters\n",
      "Dataset has 28683059 samples\n",
      "torch.Size([16, 1, 12]) torch.Size([16, 1, 12]) torch.Size([16, 1, 12]) torch.Size([16, 1, 12]) torch.Size([16, 1])\n",
      "torch.Size([16, 1, 12]) torch.Size([16, 1, 12]) torch.Size([16, 1, 12]) torch.Size([16, 1, 12]) torch.Size([16])\n",
      "0/1434153 | 0.000% |  Train Loss: 0.6793632507324219 | Test Loss: 11.810707092285156\n",
      "torch.Size([16, 1, 12]) torch.Size([16, 1, 12]) torch.Size([16, 1, 12]) torch.Size([16, 1, 12]) torch.Size([16, 1])\n",
      "torch.Size([16, 1, 12]) torch.Size([16, 1, 12]) torch.Size([16, 1, 12]) torch.Size([16, 1, 12]) torch.Size([16])\n",
      "0/1434153 | 0.000% |  Train Loss: 1.380430817604065 | Test Loss: 11.038143157958984\n",
      "torch.Size([16, 1, 12]) torch.Size([16, 1, 12]) torch.Size([16, 1, 12]) torch.Size([16, 1, 12]) torch.Size([16, 1])\n",
      "torch.Size([16, 1, 12]) torch.Size([16, 1, 12]) torch.Size([16, 1, 12]) torch.Size([16, 1, 12]) torch.Size([16])\n",
      "0/1434153 | 0.000% |  Train Loss: 0.5866044163703918 | Test Loss: 11.131235122680664\n",
      "torch.Size([16, 1, 12]) torch.Size([16, 1, 12]) torch.Size([16, 1, 12]) torch.Size([16, 1, 12]) torch.Size([16, 1])\n",
      "torch.Size([16, 1, 12]) torch.Size([16, 1, 12]) torch.Size([16, 1, 12]) torch.Size([16, 1, 12]) torch.Size([16])\n",
      "0/1434153 | 0.000% |  Train Loss: 0.6173979640007019 | Test Loss: 9.345890998840332\n",
      "torch.Size([16, 1, 12]) torch.Size([16, 1, 12]) torch.Size([16, 1, 12]) torch.Size([16, 1, 12]) torch.Size([16, 1])\n",
      "torch.Size([16, 1, 12]) torch.Size([16, 1, 12]) torch.Size([16, 1, 12]) torch.Size([16, 1, 12]) torch.Size([16])\n",
      "0/1434153 | 0.000% |  Train Loss: 0.4361342787742615 | Test Loss: 16.73065948486328\n"
     ]
    }
   ],
   "source": [
    "metrics = {\n",
    "    \"Precision\": CMALLoss()\n",
    "}\n",
    "\n",
    "trainModel(config, InundationStation, InundationData, CMALLoss(), epochs=10, criterion=metrics)"
   ]
  }
 ],
 "metadata": {
  "kernelspec": {
   "display_name": "Python 3",
   "language": "python",
   "name": "python3"
  },
  "language_info": {
   "codemirror_mode": {
    "name": "ipython",
    "version": 2
   },
   "file_extension": ".py",
   "mimetype": "text/x-python",
   "name": "python",
   "nbconvert_exporter": "python",
   "pygments_lexer": "ipython2",
   "version": "2.7.6"
  }
 },
 "nbformat": 4,
 "nbformat_minor": 0
}
