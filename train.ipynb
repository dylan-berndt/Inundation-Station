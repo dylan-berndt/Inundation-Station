{
 "cells": [
  {
   "cell_type": "code",
   "execution_count": null,
   "metadata": {
    "collapsed": true,
    "pycharm": {
     "is_executing": true
    }
   },
   "outputs": [],
   "source": [
    "import torch\n",
    "\n",
    "from model import *\n",
    "from data import *\n",
    "from vis import *\n",
    "import gc\n",
    "\n",
    "import itertools"
   ]
  },
  {
   "cell_type": "code",
   "execution_count": null,
   "metadata": {
    "collapsed": false,
    "pycharm": {
     "is_executing": true
    }
   },
   "outputs": [],
   "source": [
    "config = Config().load(\"config.json\")"
   ]
  },
  {
   "cell_type": "code",
   "execution_count": null,
   "metadata": {
    "collapsed": false,
    "pycharm": {
     "is_executing": true
    }
   },
   "outputs": [],
   "source": [
    "def trainModel(config, modelClass, dataClass, objective, epochs, criterion: dict[str: nn.Module]):\n",
    "    model = None\n",
    "    try:\n",
    "        dataset = dataClass(config)\n",
    "\n",
    "        dataset.info(dataset[0])\n",
    "\n",
    "        trainSize = len(dataset)\n",
    "        # TODO: More stratified subsets using dataset.lengths and geographic information\n",
    "        train = torch.utils.data.Subset(dataset, range(int(trainSize * config.dataSplit)))\n",
    "        test = torch.utils.data.Subset(dataset, range(int(trainSize * config.dataSplit), trainSize))\n",
    "\n",
    "        trainSampler = GraphSizeSampler(train, nodesPerBatch=config.nodesPerBatch)\n",
    "        testSampler = GraphSizeSampler(test, nodesPerBatch=config.nodesPerBatch)\n",
    "\n",
    "        train = DataLoader(train, batch_sampler=trainSampler, generator=torch.Generator(device))\n",
    "        test = DataLoader(test, batch_sampler=testSampler, generator=torch.Generator(device))\n",
    "\n",
    "        dataset.info(next(iter(train)))\n",
    "\n",
    "        model = modelClass(config)\n",
    "        print(f\"Model has {sum([p.numel() for p in model.parameters()])} parameters\")\n",
    "        print(f\"Dataset has {len(dataset)} samples\")\n",
    "        print(next(model.parameters()).is_cuda)\n",
    "\n",
    "        precision, recall, mae = CMALPrecision(), CMALRecall(), CMALNormalizedMeanAbsolute()\n",
    "\n",
    "        optimizer = torch.optim.Adam(model.parameters(), lr=3e-4)\n",
    "\n",
    "        testIter = itertools.cycle(test)\n",
    "\n",
    "        client = Client(\"127.0.0.1\")\n",
    "\n",
    "        for epoch in range(epochs):\n",
    "            progress = 0\n",
    "            for inputs, targets in train:\n",
    "                model.train()\n",
    "                optimizer.zero_grad()\n",
    "\n",
    "                history, future = targets.dischargeHistory, targets.dischargeFuture\n",
    "                thresholds, deviations = targets.thresholds, targets.deviation.unsqueeze(1)\n",
    "                hindcast, forecast = model(inputs)\n",
    "                loss = objective(forecast, future)\n",
    "                trainLoss = loss.detach().item()\n",
    "\n",
    "                # trainPrecision, trainRecall = precision(forecast, future, thresholds), recall(forecast, future, thresholds)\n",
    "                trainMAE = mae(forecast, future, deviations).detach().item()\n",
    "\n",
    "                loss.backward()\n",
    "                optimizer.step()\n",
    "\n",
    "                # For the love of god\n",
    "                del loss, history, future, thresholds, deviations, hindcast, forecast, inputs, targets\n",
    "\n",
    "                torch.cuda.empty_cache()\n",
    "\n",
    "                with torch.no_grad():\n",
    "                    model.eval()\n",
    "                    inputs, targets = next(testIter)\n",
    "\n",
    "                    history, future = targets.dischargeHistory, targets.dischargeFuture\n",
    "                    thresholds, deviations = targets.thresholds, targets.deviation.unsqueeze(1)\n",
    "                    hindcast, forecast = model(inputs)\n",
    "                    loss = objective(forecast, future)\n",
    "                    testLoss = loss.detach().item()\n",
    "\n",
    "                    # testPrecision, testRecall = precision(forecast, future, thresholds), recall(forecast, future, thresholds)\n",
    "                    testMAE = mae(forecast, future, deviations).detach().item()\n",
    "\n",
    "                    del loss, history, future, thresholds, deviations, hindcast, forecast, inputs, targets\n",
    "\n",
    "                torch.cuda.empty_cache()\n",
    "\n",
    "                client.send(\"Train Loss\", trainLoss)\n",
    "                client.send(\"Test Loss\", testLoss)\n",
    "                client.send(\"Train NMAE\", trainMAE)\n",
    "                client.send(\"Test NMAE\", testMAE)\n",
    "\n",
    "                progress += 1\n",
    "                # print(f\"\\r{progress}/{len(train)} | {(progress / len(train)) * 100:.3f}% |  Train Loss: {trainLoss} | Train Precision: {precision} | Train Recall: {recall}\")\n",
    "                print(f\"\\r{progress}/{len(train)} | {(progress / len(train)) * 100:.3f}% |  Train Loss: {trainLoss} | Test Loss: {testLoss}\", end=\"\")\n",
    "                gc.collect()\n",
    "\n",
    "            print()\n",
    "\n",
    "        return model\n",
    "\n",
    "    except KeyboardInterrupt:\n",
    "        if model is not None:\n",
    "            torch.save(model.state_dict(), \"checkpoint.pt\")\n",
    "        return model"
   ]
  },
  {
   "cell_type": "code",
   "execution_count": null,
   "metadata": {
    "collapsed": false,
    "pycharm": {
     "is_executing": true
    }
   },
   "outputs": [],
   "source": [
    "metrics = {\n",
    "    \"Precision\": CMALLoss()\n",
    "}\n",
    "\n",
    "model = trainModel(config, InundationStation, InundationData, CMALLoss(), epochs=10, criterion=metrics)"
   ]
  }
 ],
 "metadata": {
  "kernelspec": {
   "display_name": "Python 3",
   "language": "python",
   "name": "python3"
  },
  "language_info": {
   "codemirror_mode": {
    "name": "ipython",
    "version": 2
   },
   "file_extension": ".py",
   "mimetype": "text/x-python",
   "name": "python",
   "nbconvert_exporter": "python",
   "pygments_lexer": "ipython2",
   "version": "2.7.6"
  }
 },
 "nbformat": 4,
 "nbformat_minor": 0
}
