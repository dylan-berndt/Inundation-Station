{
 "cells": [
  {
   "cell_type": "code",
   "execution_count": 1,
   "metadata": {
    "collapsed": true
   },
   "outputs": [],
   "source": [
    "import torch\n",
    "\n",
    "from model import *\n",
    "from data import *\n",
    "\n",
    "import itertools"
   ]
  },
  {
   "cell_type": "code",
   "execution_count": 2,
   "metadata": {
    "collapsed": false
   },
   "outputs": [],
   "source": [
    "config = Config().load(\"config.json\")"
   ]
  },
  {
   "cell_type": "code",
   "execution_count": 3,
   "metadata": {
    "collapsed": false
   },
   "outputs": [],
   "source": [
    "# Hyperparameters for tuning\n",
    "#\n",
    "# History steps\n",
    "# Future steps\n",
    "#\n",
    "# Discrete projection dims (Basin and River)\n",
    "# Projection dimension (Basin and River)\n",
    "#\n",
    "# Graph attention hidden dimension\n",
    "# Graph attention layers\n",
    "#\n",
    "# LSTM layers\n",
    "# LSTM hidden dimension\n",
    "#\n",
    "# CMAL hidden dimension\n",
    "# CMAL mixtures\n",
    "#\n",
    "# Dropout (Probably not)\n",
    "# Batch size (Probably not)\n",
    "#\n",
    "# x2 for encoder and decoder?"
   ]
  },
  {
   "cell_type": "code",
   "execution_count": 4,
   "metadata": {
    "collapsed": false
   },
   "outputs": [],
   "source": [
    "def trainModel(config, modelClass, dataClass, objective, epochs, criterion: dict[str: nn.Module]):\n",
    "    dataset = dataClass(config)\n",
    "\n",
    "    dataset.info(dataset[0])\n",
    "\n",
    "    trainSize = len(dataset)\n",
    "    train = torch.utils.data.Subset(dataset, range(int(trainSize * config.dataSplit)))\n",
    "    test = torch.utils.data.Subset(dataset, range(int(trainSize * config.dataSplit), trainSize))\n",
    "\n",
    "    train = DataLoader(train, batch_size=config.batchSize, shuffle=True, generator=torch.Generator(device))\n",
    "    test = DataLoader(test, batch_size=config.batchSize, shuffle=True, generator=torch.Generator(device))\n",
    "\n",
    "    print(\"Dataloader Shuffled\")\n",
    "\n",
    "    dataset.info(next(iter(train)))\n",
    "\n",
    "    model = modelClass(config)\n",
    "    print(f\"Model has {sum([p.numel() for p in model.parameters()])} parameters\")\n",
    "    print(f\"Dataset has {len(dataset)} samples\")\n",
    "    print(next(model.parameters()).is_cuda)\n",
    "\n",
    "    optimizer = torch.optim.Adam(model.parameters(), lr=1e-4)\n",
    "\n",
    "    testIter = itertools.cycle(test)\n",
    "\n",
    "    for epoch in range(epochs):\n",
    "        progress = 0\n",
    "        for inputs, targets in train:\n",
    "            model.train()\n",
    "            optimizer.zero_grad()\n",
    "\n",
    "            history, future, thresholds = targets.dischargeHistory, targets.dischargeFuture, targets.thresholds\n",
    "            hindcast, forecast = model(inputs)\n",
    "            loss = objective(forecast, future)\n",
    "            trainLoss = loss.item()\n",
    "\n",
    "            # teehee\n",
    "            # precision = CMALPrecision()(forecast, future, thresholds).detach().item()\n",
    "            # recall = CMALRecall()(forecast, future, thresholds).detach().item()\n",
    "\n",
    "            loss.backward()\n",
    "            optimizer.step()\n",
    "\n",
    "            torch.cuda.empty_cache()\n",
    "\n",
    "            with torch.no_grad():\n",
    "                model.eval()\n",
    "                inputs, targets = next(testIter)\n",
    "\n",
    "                history, future, thresholds = targets.dischargeHistory, targets.dischargeFuture, targets.thresholds\n",
    "                hindcast, forecast = model(inputs)\n",
    "                loss = objective(forecast, future)\n",
    "                testLoss = loss.detach().item()\n",
    "\n",
    "            torch.cuda.empty_cache()\n",
    "\n",
    "            progress += 1\n",
    "            # print(f\"\\r{progress}/{len(train)} | {(progress / len(train)) * 100:.3f}% |  Train Loss: {trainLoss} | Train Precision: {precision} | Train Recall: {recall}\")\n",
    "            print(f\"\\r{progress}/{len(train)} | {(progress / len(train)) * 100:.3f}% |  Train Loss: {trainLoss} | Test Loss: {testLoss}\", end=\"\")\n",
    "        print()\n",
    "\n",
    "    return model"
   ]
  },
  {
   "cell_type": "code",
   "execution_count": 5,
   "metadata": {
    "collapsed": false
   },
   "outputs": [
    {
     "name": "stdout",
     "output_type": "stream",
     "text": [
      "Loading GeoPandas...\n",
      "GeoPandas Loaded\n",
      "2544/2544 GRDC files loaded\n",
      "9640/9640 ERA5 files loaded\n",
      "Total empty basins: 37\n",
      "57622/57646 Basin Structures Appended to Graph\n",
      "Upstream Basins Compiled | 1.0 | 17.43485477178423\n",
      "Upstream Structures Compiled\n",
      "Structure Tensors Complete\n",
      "Index Mapping Complete\n",
      "Static Input Scaling Complete\n",
      "\n",
      "        Total Samples: 28683059\n",
      "        Era5 History: torch.Size([1, 365, 7]) torch.float32\n",
      "        Era5 Future: torch.Size([1, 7, 7]) torch.float32\n",
      "        Basin Continuous: torch.Size([1, 277]) torch.float32\n",
      "        Basin Discrete: torch.Size([1, 10]) torch.int64\n",
      "        Structure: torch.Size([2, 1]) torch.int64\n",
      "        River Continuous: torch.Size([258]) torch.float32\n",
      "        River Discrete: torch.Size([14]) torch.int64\n",
      "        Discharge History: torch.Size([365]) torch.float32\n",
      "        Discharge Future: torch.Size([7]) torch.float32\n",
      "        Thresholds: torch.Size([4]) torch.float32\n",
      "        \n",
      "Dataloader Shuffled\n",
      "\n",
      "        Total Samples: 28683059\n",
      "        Era5 History: torch.Size([18, 365, 7]) torch.float32\n",
      "        Era5 Future: torch.Size([18, 7, 7]) torch.float32\n",
      "        Basin Continuous: torch.Size([18, 277]) torch.float32\n",
      "        Basin Discrete: torch.Size([18, 10]) torch.int64\n",
      "        Structure: torch.Size([2, 28]) torch.int64\n",
      "        River Continuous: torch.Size([8, 258]) torch.float32\n",
      "        River Discrete: torch.Size([8, 14]) torch.int64\n",
      "        Discharge History: torch.Size([8, 365]) torch.float32\n",
      "        Discharge Future: torch.Size([8, 7]) torch.float32\n",
      "        Thresholds: torch.Size([8, 4]) torch.float32\n",
      "        \n",
      "Model has 1127544 parameters\n",
      "Dataset has 28683059 samples\n",
      "True\n",
      "1267/2868306 | 0.044% |  Train Loss: -1.5769462585449219 | Test Loss: nann030900001525965605"
     ]
    },
    {
     "ename": "OutOfMemoryError",
     "evalue": "CUDA out of memory. Tried to allocate 258.00 MiB. GPU 0 has a total capacity of 6.00 GiB of which 0 bytes is free. Of the allocated memory 11.41 GiB is allocated by PyTorch, and 1.10 GiB is reserved by PyTorch but unallocated. If reserved but unallocated memory is large try setting PYTORCH_CUDA_ALLOC_CONF=expandable_segments:True to avoid fragmentation.  See documentation for Memory Management  (https://pytorch.org/docs/stable/notes/cuda.html#environment-variables)",
     "output_type": "error",
     "traceback": [
      "\u001B[1;31m---------------------------------------------------------------------------\u001B[0m",
      "\u001B[1;31mOutOfMemoryError\u001B[0m                          Traceback (most recent call last)",
      "Cell \u001B[1;32mIn[5], line 5\u001B[0m\n\u001B[0;32m      1\u001B[0m metrics \u001B[38;5;241m=\u001B[39m {\n\u001B[0;32m      2\u001B[0m     \u001B[38;5;124m\"\u001B[39m\u001B[38;5;124mPrecision\u001B[39m\u001B[38;5;124m\"\u001B[39m: CMALLoss()\n\u001B[0;32m      3\u001B[0m }\n\u001B[1;32m----> 5\u001B[0m \u001B[43mtrainModel\u001B[49m\u001B[43m(\u001B[49m\u001B[43mconfig\u001B[49m\u001B[43m,\u001B[49m\u001B[43m \u001B[49m\u001B[43mInundationStation\u001B[49m\u001B[43m,\u001B[49m\u001B[43m \u001B[49m\u001B[43mInundationData\u001B[49m\u001B[43m,\u001B[49m\u001B[43m \u001B[49m\u001B[43mCMALLoss\u001B[49m\u001B[43m(\u001B[49m\u001B[43m)\u001B[49m\u001B[43m,\u001B[49m\u001B[43m \u001B[49m\u001B[43mepochs\u001B[49m\u001B[38;5;241;43m=\u001B[39;49m\u001B[38;5;241;43m10\u001B[39;49m\u001B[43m,\u001B[49m\u001B[43m \u001B[49m\u001B[43mcriterion\u001B[49m\u001B[38;5;241;43m=\u001B[39;49m\u001B[43mmetrics\u001B[49m\u001B[43m)\u001B[49m\n",
      "Cell \u001B[1;32mIn[4], line 41\u001B[0m, in \u001B[0;36mtrainModel\u001B[1;34m(config, modelClass, dataClass, objective, epochs, criterion)\u001B[0m\n\u001B[0;32m     35\u001B[0m trainLoss \u001B[38;5;241m=\u001B[39m loss\u001B[38;5;241m.\u001B[39mitem()\n\u001B[0;32m     37\u001B[0m \u001B[38;5;66;03m# teehee\u001B[39;00m\n\u001B[0;32m     38\u001B[0m \u001B[38;5;66;03m# precision = CMALPrecision()(forecast, future, thresholds).detach().item()\u001B[39;00m\n\u001B[0;32m     39\u001B[0m \u001B[38;5;66;03m# recall = CMALRecall()(forecast, future, thresholds).detach().item()\u001B[39;00m\n\u001B[1;32m---> 41\u001B[0m \u001B[43mloss\u001B[49m\u001B[38;5;241;43m.\u001B[39;49m\u001B[43mbackward\u001B[49m\u001B[43m(\u001B[49m\u001B[43m)\u001B[49m\n\u001B[0;32m     42\u001B[0m optimizer\u001B[38;5;241m.\u001B[39mstep()\n\u001B[0;32m     44\u001B[0m torch\u001B[38;5;241m.\u001B[39mcuda\u001B[38;5;241m.\u001B[39mempty_cache()\n",
      "File \u001B[1;32mD:\\PycharmProjects\\ChickenScratch\\venv\\lib\\site-packages\\torch\\_tensor.py:572\u001B[0m, in \u001B[0;36mTensor.backward\u001B[1;34m(self, gradient, retain_graph, create_graph, inputs)\u001B[0m\n\u001B[0;32m    528\u001B[0m \u001B[38;5;250m\u001B[39m\u001B[38;5;124mr\u001B[39m\u001B[38;5;124;03m\"\"\"Computes the gradient of current tensor wrt graph leaves.\u001B[39;00m\n\u001B[0;32m    529\u001B[0m \n\u001B[0;32m    530\u001B[0m \u001B[38;5;124;03mThe graph is differentiated using the chain rule. If the tensor is\u001B[39;00m\n\u001B[1;32m   (...)\u001B[0m\n\u001B[0;32m    569\u001B[0m \u001B[38;5;124;03m        used to compute the :attr:`tensors`.\u001B[39;00m\n\u001B[0;32m    570\u001B[0m \u001B[38;5;124;03m\"\"\"\u001B[39;00m\n\u001B[0;32m    571\u001B[0m \u001B[38;5;28;01mif\u001B[39;00m has_torch_function_unary(\u001B[38;5;28mself\u001B[39m):\n\u001B[1;32m--> 572\u001B[0m     \u001B[38;5;28;01mreturn\u001B[39;00m \u001B[43mhandle_torch_function\u001B[49m\u001B[43m(\u001B[49m\n\u001B[0;32m    573\u001B[0m \u001B[43m        \u001B[49m\u001B[43mTensor\u001B[49m\u001B[38;5;241;43m.\u001B[39;49m\u001B[43mbackward\u001B[49m\u001B[43m,\u001B[49m\n\u001B[0;32m    574\u001B[0m \u001B[43m        \u001B[49m\u001B[43m(\u001B[49m\u001B[38;5;28;43mself\u001B[39;49m\u001B[43m,\u001B[49m\u001B[43m)\u001B[49m\u001B[43m,\u001B[49m\n\u001B[0;32m    575\u001B[0m \u001B[43m        \u001B[49m\u001B[38;5;28;43mself\u001B[39;49m\u001B[43m,\u001B[49m\n\u001B[0;32m    576\u001B[0m \u001B[43m        \u001B[49m\u001B[43mgradient\u001B[49m\u001B[38;5;241;43m=\u001B[39;49m\u001B[43mgradient\u001B[49m\u001B[43m,\u001B[49m\n\u001B[0;32m    577\u001B[0m \u001B[43m        \u001B[49m\u001B[43mretain_graph\u001B[49m\u001B[38;5;241;43m=\u001B[39;49m\u001B[43mretain_graph\u001B[49m\u001B[43m,\u001B[49m\n\u001B[0;32m    578\u001B[0m \u001B[43m        \u001B[49m\u001B[43mcreate_graph\u001B[49m\u001B[38;5;241;43m=\u001B[39;49m\u001B[43mcreate_graph\u001B[49m\u001B[43m,\u001B[49m\n\u001B[0;32m    579\u001B[0m \u001B[43m        \u001B[49m\u001B[43minputs\u001B[49m\u001B[38;5;241;43m=\u001B[39;49m\u001B[43minputs\u001B[49m\u001B[43m,\u001B[49m\n\u001B[0;32m    580\u001B[0m \u001B[43m    \u001B[49m\u001B[43m)\u001B[49m\n\u001B[0;32m    581\u001B[0m torch\u001B[38;5;241m.\u001B[39mautograd\u001B[38;5;241m.\u001B[39mbackward(\n\u001B[0;32m    582\u001B[0m     \u001B[38;5;28mself\u001B[39m, gradient, retain_graph, create_graph, inputs\u001B[38;5;241m=\u001B[39minputs\n\u001B[0;32m    583\u001B[0m )\n",
      "File \u001B[1;32mD:\\PycharmProjects\\ChickenScratch\\venv\\lib\\site-packages\\torch\\overrides.py:1717\u001B[0m, in \u001B[0;36mhandle_torch_function\u001B[1;34m(public_api, relevant_args, *args, **kwargs)\u001B[0m\n\u001B[0;32m   1713\u001B[0m \u001B[38;5;28;01mif\u001B[39;00m _is_torch_function_mode_enabled():\n\u001B[0;32m   1714\u001B[0m     \u001B[38;5;66;03m# if we're here, the mode must be set to a TorchFunctionStackMode\u001B[39;00m\n\u001B[0;32m   1715\u001B[0m     \u001B[38;5;66;03m# this unsets it and calls directly into TorchFunctionStackMode's torch function\u001B[39;00m\n\u001B[0;32m   1716\u001B[0m     \u001B[38;5;28;01mwith\u001B[39;00m _pop_mode_temporarily() \u001B[38;5;28;01mas\u001B[39;00m mode:\n\u001B[1;32m-> 1717\u001B[0m         result \u001B[38;5;241m=\u001B[39m \u001B[43mmode\u001B[49m\u001B[38;5;241;43m.\u001B[39;49m\u001B[43m__torch_function__\u001B[49m\u001B[43m(\u001B[49m\u001B[43mpublic_api\u001B[49m\u001B[43m,\u001B[49m\u001B[43m \u001B[49m\u001B[43mtypes\u001B[49m\u001B[43m,\u001B[49m\u001B[43m \u001B[49m\u001B[43margs\u001B[49m\u001B[43m,\u001B[49m\u001B[43m \u001B[49m\u001B[43mkwargs\u001B[49m\u001B[43m)\u001B[49m\n\u001B[0;32m   1718\u001B[0m     \u001B[38;5;28;01mif\u001B[39;00m result \u001B[38;5;129;01mis\u001B[39;00m \u001B[38;5;129;01mnot\u001B[39;00m \u001B[38;5;28mNotImplemented\u001B[39m:\n\u001B[0;32m   1719\u001B[0m         \u001B[38;5;28;01mreturn\u001B[39;00m result\n",
      "File \u001B[1;32mD:\\PycharmProjects\\ChickenScratch\\venv\\lib\\site-packages\\torch\\utils\\_device.py:106\u001B[0m, in \u001B[0;36mDeviceContext.__torch_function__\u001B[1;34m(self, func, types, args, kwargs)\u001B[0m\n\u001B[0;32m    104\u001B[0m \u001B[38;5;28;01mif\u001B[39;00m func \u001B[38;5;129;01min\u001B[39;00m _device_constructors() \u001B[38;5;129;01mand\u001B[39;00m kwargs\u001B[38;5;241m.\u001B[39mget(\u001B[38;5;124m'\u001B[39m\u001B[38;5;124mdevice\u001B[39m\u001B[38;5;124m'\u001B[39m) \u001B[38;5;129;01mis\u001B[39;00m \u001B[38;5;28;01mNone\u001B[39;00m:\n\u001B[0;32m    105\u001B[0m     kwargs[\u001B[38;5;124m'\u001B[39m\u001B[38;5;124mdevice\u001B[39m\u001B[38;5;124m'\u001B[39m] \u001B[38;5;241m=\u001B[39m \u001B[38;5;28mself\u001B[39m\u001B[38;5;241m.\u001B[39mdevice\n\u001B[1;32m--> 106\u001B[0m \u001B[38;5;28;01mreturn\u001B[39;00m func(\u001B[38;5;241m*\u001B[39margs, \u001B[38;5;241m*\u001B[39m\u001B[38;5;241m*\u001B[39mkwargs)\n",
      "File \u001B[1;32mD:\\PycharmProjects\\ChickenScratch\\venv\\lib\\site-packages\\torch\\_tensor.py:581\u001B[0m, in \u001B[0;36mTensor.backward\u001B[1;34m(self, gradient, retain_graph, create_graph, inputs)\u001B[0m\n\u001B[0;32m    571\u001B[0m \u001B[38;5;28;01mif\u001B[39;00m has_torch_function_unary(\u001B[38;5;28mself\u001B[39m):\n\u001B[0;32m    572\u001B[0m     \u001B[38;5;28;01mreturn\u001B[39;00m handle_torch_function(\n\u001B[0;32m    573\u001B[0m         Tensor\u001B[38;5;241m.\u001B[39mbackward,\n\u001B[0;32m    574\u001B[0m         (\u001B[38;5;28mself\u001B[39m,),\n\u001B[1;32m   (...)\u001B[0m\n\u001B[0;32m    579\u001B[0m         inputs\u001B[38;5;241m=\u001B[39minputs,\n\u001B[0;32m    580\u001B[0m     )\n\u001B[1;32m--> 581\u001B[0m \u001B[43mtorch\u001B[49m\u001B[38;5;241;43m.\u001B[39;49m\u001B[43mautograd\u001B[49m\u001B[38;5;241;43m.\u001B[39;49m\u001B[43mbackward\u001B[49m\u001B[43m(\u001B[49m\n\u001B[0;32m    582\u001B[0m \u001B[43m    \u001B[49m\u001B[38;5;28;43mself\u001B[39;49m\u001B[43m,\u001B[49m\u001B[43m \u001B[49m\u001B[43mgradient\u001B[49m\u001B[43m,\u001B[49m\u001B[43m \u001B[49m\u001B[43mretain_graph\u001B[49m\u001B[43m,\u001B[49m\u001B[43m \u001B[49m\u001B[43mcreate_graph\u001B[49m\u001B[43m,\u001B[49m\u001B[43m \u001B[49m\u001B[43minputs\u001B[49m\u001B[38;5;241;43m=\u001B[39;49m\u001B[43minputs\u001B[49m\n\u001B[0;32m    583\u001B[0m \u001B[43m\u001B[49m\u001B[43m)\u001B[49m\n",
      "File \u001B[1;32mD:\\PycharmProjects\\ChickenScratch\\venv\\lib\\site-packages\\torch\\autograd\\__init__.py:347\u001B[0m, in \u001B[0;36mbackward\u001B[1;34m(tensors, grad_tensors, retain_graph, create_graph, grad_variables, inputs)\u001B[0m\n\u001B[0;32m    342\u001B[0m     retain_graph \u001B[38;5;241m=\u001B[39m create_graph\n\u001B[0;32m    344\u001B[0m \u001B[38;5;66;03m# The reason we repeat the same comment below is that\u001B[39;00m\n\u001B[0;32m    345\u001B[0m \u001B[38;5;66;03m# some Python versions print out the first line of a multi-line function\u001B[39;00m\n\u001B[0;32m    346\u001B[0m \u001B[38;5;66;03m# calls in the traceback and some print out the last line\u001B[39;00m\n\u001B[1;32m--> 347\u001B[0m \u001B[43m_engine_run_backward\u001B[49m\u001B[43m(\u001B[49m\n\u001B[0;32m    348\u001B[0m \u001B[43m    \u001B[49m\u001B[43mtensors\u001B[49m\u001B[43m,\u001B[49m\n\u001B[0;32m    349\u001B[0m \u001B[43m    \u001B[49m\u001B[43mgrad_tensors_\u001B[49m\u001B[43m,\u001B[49m\n\u001B[0;32m    350\u001B[0m \u001B[43m    \u001B[49m\u001B[43mretain_graph\u001B[49m\u001B[43m,\u001B[49m\n\u001B[0;32m    351\u001B[0m \u001B[43m    \u001B[49m\u001B[43mcreate_graph\u001B[49m\u001B[43m,\u001B[49m\n\u001B[0;32m    352\u001B[0m \u001B[43m    \u001B[49m\u001B[43minputs\u001B[49m\u001B[43m,\u001B[49m\n\u001B[0;32m    353\u001B[0m \u001B[43m    \u001B[49m\u001B[43mallow_unreachable\u001B[49m\u001B[38;5;241;43m=\u001B[39;49m\u001B[38;5;28;43;01mTrue\u001B[39;49;00m\u001B[43m,\u001B[49m\n\u001B[0;32m    354\u001B[0m \u001B[43m    \u001B[49m\u001B[43maccumulate_grad\u001B[49m\u001B[38;5;241;43m=\u001B[39;49m\u001B[38;5;28;43;01mTrue\u001B[39;49;00m\u001B[43m,\u001B[49m\n\u001B[0;32m    355\u001B[0m \u001B[43m\u001B[49m\u001B[43m)\u001B[49m\n",
      "File \u001B[1;32mD:\\PycharmProjects\\ChickenScratch\\venv\\lib\\site-packages\\torch\\autograd\\graph.py:825\u001B[0m, in \u001B[0;36m_engine_run_backward\u001B[1;34m(t_outputs, *args, **kwargs)\u001B[0m\n\u001B[0;32m    823\u001B[0m     unregister_hooks \u001B[38;5;241m=\u001B[39m _register_logging_hooks_on_whole_graph(t_outputs)\n\u001B[0;32m    824\u001B[0m \u001B[38;5;28;01mtry\u001B[39;00m:\n\u001B[1;32m--> 825\u001B[0m     \u001B[38;5;28;01mreturn\u001B[39;00m Variable\u001B[38;5;241m.\u001B[39m_execution_engine\u001B[38;5;241m.\u001B[39mrun_backward(  \u001B[38;5;66;03m# Calls into the C++ engine to run the backward pass\u001B[39;00m\n\u001B[0;32m    826\u001B[0m         t_outputs, \u001B[38;5;241m*\u001B[39margs, \u001B[38;5;241m*\u001B[39m\u001B[38;5;241m*\u001B[39mkwargs\n\u001B[0;32m    827\u001B[0m     )  \u001B[38;5;66;03m# Calls into the C++ engine to run the backward pass\u001B[39;00m\n\u001B[0;32m    828\u001B[0m \u001B[38;5;28;01mfinally\u001B[39;00m:\n\u001B[0;32m    829\u001B[0m     \u001B[38;5;28;01mif\u001B[39;00m attach_logging_hooks:\n",
      "\u001B[1;31mOutOfMemoryError\u001B[0m: CUDA out of memory. Tried to allocate 258.00 MiB. GPU 0 has a total capacity of 6.00 GiB of which 0 bytes is free. Of the allocated memory 11.41 GiB is allocated by PyTorch, and 1.10 GiB is reserved by PyTorch but unallocated. If reserved but unallocated memory is large try setting PYTORCH_CUDA_ALLOC_CONF=expandable_segments:True to avoid fragmentation.  See documentation for Memory Management  (https://pytorch.org/docs/stable/notes/cuda.html#environment-variables)"
     ]
    }
   ],
   "source": [
    "metrics = {\n",
    "    \"Precision\": CMALLoss()\n",
    "}\n",
    "\n",
    "trainModel(config, InundationStation, InundationData, CMALLoss(), epochs=10, criterion=metrics)"
   ]
  }
 ],
 "metadata": {
  "kernelspec": {
   "display_name": "Python 3",
   "language": "python",
   "name": "python3"
  },
  "language_info": {
   "codemirror_mode": {
    "name": "ipython",
    "version": 2
   },
   "file_extension": ".py",
   "mimetype": "text/x-python",
   "name": "python",
   "nbconvert_exporter": "python",
   "pygments_lexer": "ipython2",
   "version": "2.7.6"
  }
 },
 "nbformat": 4,
 "nbformat_minor": 0
}
