{
  "cells": [
    {
      "cell_type": "code",
      "execution_count": null,
      "metadata": {
        "id": "gLzbHEPlfb_g"
      },
      "outputs": [],
      "source": [
        "import ee\n",
        "from datetime import datetime\n",
        "import time\n",
        "import pandas as pd\n",
        "\n",
        "folder = \"Basin Differentiation\"\n",
        "\n",
        "ee.Authenticate()\n",
        "ee.Initialize(project='new-madrid-displacement')"
      ]
    },
    {
      "cell_type": "code",
      "execution_count": null,
      "metadata": {
        "id": "2QE0zkuTw5WG"
      },
      "outputs": [],
      "source": [
        "import json\n",
        "\n",
        "hydrobasins = ee.FeatureCollection(\"WWF/HydroSHEDS/v1/Basins/hybas_7\")"
      ]
    },
    {
      "cell_type": "code",
      "execution_count": null,
      "metadata": {
        "colab": {
          "background_save": true,
          "base_uri": "https://localhost:8080/"
        },
        "id": "7aPIgmDNw8Sb",
        "outputId": "67afed7f-80c7-4658-ff56-38140b66065f"
      },
      "outputs": [
        {
          "name": "stdout",
          "output_type": "stream",
          "text": [
            "Mounted at /content/drive\n",
            "924 / 924 Started"
          ]
        }
      ],
      "source": [
        "start = '1980-01-01'\n",
        "end = '2023-01-01'\n",
        "era5 = ee.ImageCollection('ECMWF/ERA5_LAND/DAILY_AGGR').filterDate(start, end)\n",
        "\n",
        "\n",
        "def convertImageFactory(geometry):\n",
        "    def convertImages(image):\n",
        "        image = image.select('total_precipitation_sum',\n",
        "                            'snowfall_sum',\n",
        "                            'temperature_2m_min',\n",
        "                            'temperature_2m_max',\n",
        "                            'surface_net_solar_radiation_sum',\n",
        "                            'surface_net_thermal_radiation_sum',\n",
        "                            'surface_pressure')\n",
        "\n",
        "        stats = image.reduceRegion(\n",
        "            reducer=ee.Reducer.mean(),\n",
        "            geometry=geometry,\n",
        "            maxPixels=1e13\n",
        "        )\n",
        "        stats = ee.Feature(None, stats).set('date', image.date().format())\n",
        "        return stats\n",
        "\n",
        "    return convertImages\n",
        "\n",
        "\n",
        "basinsStringed = hydrobasins.map(lambda f: f.set('HYBAS_ID', ee.String(f.get('HYBAS_ID'))))\n",
        "northAmericaBasins = basinsStringed.filter(ee.Filter.Or(ee.Filter.stringStartsWith('HYBAS_ID', '7'), ee.Filter.stringStartsWith('HYBAS_ID', '8')))\n",
        "basinIDs = northAmericaBasins.aggregate_array('PFAF_ID').distinct().sort().getInfo()\n",
        "basinType = type(basinIDs[0])\n",
        "\n",
        "from google.colab import drive\n",
        "drive.mount('/content/drive', force_remount=True)\n",
        "\n",
        "import os\n",
        "os.chdir(f'/content/drive/MyDrive/{folder}/')\n",
        "completedIndex = [fileName.split(\"_\")[-1].split(\".\")[0] for fileName in os.listdir(\".\")]\n",
        "\n",
        "basinIDs = [str(id) for id in basinIDs]\n",
        "unfinishedIDs = list(set(basinIDs) - set(completedIndex))\n",
        "basinIDs = [basinType(id) for id in unfinishedIDs]\n",
        "\n",
        "\n",
        "for i, basinID in enumerate(basinIDs):\n",
        "    geometry = hydrobasins.filter(ee.Filter.eq('PFAF_ID', ee.Number(basinID))).union(1).first().geometry()\n",
        "    dataset = era5.filterBounds(geometry)\n",
        "\n",
        "    imageMap = convertImageFactory(geometry)\n",
        "\n",
        "    timeSeries = ee.FeatureCollection(dataset.map(imageMap))\n",
        "\n",
        "    task = ee.batch.Export.table.toDrive(\n",
        "        collection=timeSeries,\n",
        "        description=f'Basin_AreaWeighted_TS_{basinID}',\n",
        "        folder=folder,\n",
        "        fileFormat='CSV'\n",
        "    )\n",
        "    task.start()\n",
        "\n",
        "    # while task.status()['state'] != 'COMPLETED':\n",
        "    #     time.sleep(2)\n",
        "\n",
        "    if i > 2000:\n",
        "        break\n",
        "\n",
        "    print(f\"\\r{i + 1} / {len(basinIDs)} Started\", end=\"\")\n",
        "\n",
        "\n"
      ]
    }
  ],
  "metadata": {
    "colab": {
      "provenance": []
    },
    "kernelspec": {
      "display_name": "Python 3",
      "name": "python3"
    },
    "language_info": {
      "name": "python"
    }
  },
  "nbformat": 4,
  "nbformat_minor": 0
}